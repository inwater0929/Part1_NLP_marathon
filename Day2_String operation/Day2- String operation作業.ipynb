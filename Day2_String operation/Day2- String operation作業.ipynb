{
 "cells": [
  {
   "cell_type": "markdown",
   "metadata": {},
   "source": [
    "# 作業目標：運用課程所學，操作字串達到預期輸出"
   ]
  },
  {
   "cell_type": "markdown",
   "metadata": {},
   "source": [
    "---"
   ]
  },
  {
   "cell_type": "markdown",
   "metadata": {},
   "source": [
    "### isnumeric(), isdigit(), isdecimal() 各有幾個"
   ]
  },
  {
   "cell_type": "code",
   "execution_count": 3,
   "metadata": {},
   "outputs": [],
   "source": [
    "test_string = ['5.9', '30', '½', '³', '⑬']"
   ]
  },
  {
   "cell_type": "code",
   "execution_count": 23,
   "metadata": {},
   "outputs": [],
   "source": [
    "def spam(string):\n",
    "    attr_list=['isnumeric', 'isdecimal', 'isdigit']\n",
    "    attr_dict={i:0 for i in attr_list}\n",
    "    for attr in attr_list:\n",
    "        ans=getattr(string, attr)()\n",
    "        if ans:\n",
    "            attr_dict[attr] +=1\n",
    "    return attr_dict"
   ]
  },
  {
   "cell_type": "code",
   "execution_count": 45,
   "metadata": {},
   "outputs": [
    {
     "output_type": "execute_result",
     "data": {
      "text/plain": [
       "{'isnumeric': 1, 'isdecimal': 1, 'isdigit': 1}"
      ]
     },
     "metadata": {},
     "execution_count": 45
    }
   ],
   "source": [
    "a=Counter({i:0 for i in ['isnumeric', 'isdecimal', 'isdigit']})\n",
    "b=Counter(spam('30'))\n",
    "dict(a+b)"
   ]
  },
  {
   "cell_type": "code",
   "execution_count": 63,
   "metadata": {},
   "outputs": [
    {
     "output_type": "stream",
     "name": "stdout",
     "text": [
      "isnumeric_count:  4\nisdigit_count:  2\nisdecimal_count:  1\n"
     ]
    }
   ],
   "source": [
    "from collections import Counter\n",
    "attr_dict=Counter({i:0 for i in ['isnumeric', 'isdecimal', 'isdigit']})\n",
    "for string in test_string:\n",
    "    add_attr_dict = Counter(spam(string))\n",
    "    attr_dict = attr_dict + add_attr_dict\n",
    "attr_dict=dict(attr_dict)\n",
    "\n",
    "print('isnumeric_count: ',attr_dict['isnumeric'])     \n",
    "print('isdigit_count: ',attr_dict['isdigit'])     \n",
    "print('isdecimal_count: ',attr_dict['isdecimal'])  "
   ]
  },
  {
   "cell_type": "markdown",
   "metadata": {},
   "source": [
    "---"
   ]
  },
  {
   "cell_type": "markdown",
   "metadata": {},
   "source": [
    "## 運用formatting 技巧 output\n",
    "    * Accuracy: 98.13%, Recall: 94.88%, Precision: 96.29%"
   ]
  },
  {
   "cell_type": "code",
   "execution_count": 67,
   "metadata": {},
   "outputs": [],
   "source": [
    "accuracy = 98.129393\n",
    "recall =   94.879583\n",
    "precision =96.294821"
   ]
  },
  {
   "cell_type": "code",
   "execution_count": 73,
   "metadata": {},
   "outputs": [
    {
     "output_type": "stream",
     "name": "stdout",
     "text": [
      "accuracy : 98.129 %\nrecall : 94.880 %\nprecision : 96.295 %\n"
     ]
    }
   ],
   "source": [
    "output={'accuracy':accuracy,'recall':recall,'precision':precision}\n",
    "for key in output.keys():\n",
    "    print(key,':','%.3f'%output[key],'%')"
   ]
  },
  {
   "cell_type": "code",
   "execution_count": 76,
   "metadata": {},
   "outputs": [],
   "source": [
    "accuracy = 0.98129393\n",
    "recall =   0.94879583\n",
    "precision =0.96294821"
   ]
  },
  {
   "cell_type": "code",
   "execution_count": 77,
   "metadata": {},
   "outputs": [
    {
     "output_type": "stream",
     "name": "stdout",
     "text": [
      "accuracy : 98.129 %\nrecall : 94.880 %\nprecision : 96.295 %\n"
     ]
    }
   ],
   "source": [
    "output={'accuracy':accuracy,'recall':recall,'precision':precision}\n",
    "for key in output.keys():\n",
    "    print(key,':','%.3f'%(output[key]*100),'%')"
   ]
  },
  {
   "cell_type": "markdown",
   "metadata": {},
   "source": [
    "---"
   ]
  },
  {
   "cell_type": "markdown",
   "metadata": {},
   "source": [
    "## 依照只是轉換number output format"
   ]
  },
  {
   "cell_type": "code",
   "execution_count": 85,
   "metadata": {},
   "outputs": [],
   "source": [
    "number = 3.1415926"
   ]
  },
  {
   "cell_type": "markdown",
   "metadata": {},
   "source": [
    "#### 轉換為科學符號表示法 (小數點後兩位)"
   ]
  },
  {
   "cell_type": "code",
   "execution_count": 86,
   "metadata": {},
   "outputs": [
    {
     "output_type": "stream",
     "name": "stdout",
     "text": [
      "3.14e+00\n"
     ]
    }
   ],
   "source": [
    "print('%.2e'%(number))"
   ]
  },
  {
   "cell_type": "markdown",
   "metadata": {},
   "source": [
    "#### 轉換為%"
   ]
  },
  {
   "cell_type": "code",
   "execution_count": 89,
   "metadata": {},
   "outputs": [
    {
     "output_type": "stream",
     "name": "stdout",
     "text": [
      "314.16 %\n"
     ]
    }
   ],
   "source": [
    "print('%.2f'%(number*100),'%')"
   ]
  },
  {
   "cell_type": "markdown",
   "metadata": {},
   "source": [
    "#### 補零成為3.14159300"
   ]
  },
  {
   "cell_type": "code",
   "execution_count": 91,
   "metadata": {},
   "outputs": [
    {
     "output_type": "stream",
     "name": "stdout",
     "text": [
      "3.14159300\n"
     ]
    }
   ],
   "source": [
    "print('{:0<10f}'.format(number))"
   ]
  },
  {
   "cell_type": "code",
   "execution_count": null,
   "metadata": {},
   "outputs": [],
   "source": []
  }
 ],
 "metadata": {
  "kernelspec": {
   "name": "python3",
   "display_name": "Python 3.7.9 64-bit",
   "metadata": {
    "interpreter": {
     "hash": "aee8b7b246df8f9039afb4144a1f6fd8d2ca17a180786b69acc140d282b71a49"
    }
   }
  },
  "language_info": {
   "codemirror_mode": {
    "name": "ipython",
    "version": 3
   },
   "file_extension": ".py",
   "mimetype": "text/x-python",
   "name": "python",
   "nbconvert_exporter": "python",
   "pygments_lexer": "ipython3",
   "version": "3.7.9-final"
  }
 },
 "nbformat": 4,
 "nbformat_minor": 2
}