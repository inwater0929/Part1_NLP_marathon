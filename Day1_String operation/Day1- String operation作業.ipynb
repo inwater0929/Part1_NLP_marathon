{
 "cells": [
  {
   "cell_type": "markdown",
   "metadata": {},
   "source": [
    "# 作業目標：運用課程所學，操作字串達到預期輸出"
   ]
  },
  {
   "cell_type": "markdown",
   "metadata": {},
   "source": [
    "---"
   ]
  },
  {
   "cell_type": "markdown",
   "metadata": {},
   "source": [
    "## 讀入所需文件"
   ]
  },
  {
   "cell_type": "code",
   "execution_count": 2,
   "metadata": {},
   "outputs": [],
   "source": [
    "import pandas as pd\n",
    "#TSV文件有別於CSV的文件是使用\\t作为分隔符，CSV則是使用,作为分隔符。\n",
    "dataset = pd.read_csv(r'Restaurant_Reviews.tsv', sep='\\t')"
   ]
  },
  {
   "cell_type": "code",
   "execution_count": 5,
   "metadata": {},
   "outputs": [],
   "source": [
    "all_review = dataset['Review'].values"
   ]
  },
  {
   "cell_type": "markdown",
   "metadata": {},
   "source": [
    "---"
   ]
  },
  {
   "cell_type": "markdown",
   "metadata": {},
   "source": [
    "### 計算有多少個句子是以 . 結尾"
   ]
  },
  {
   "cell_type": "code",
   "execution_count": 7,
   "metadata": {},
   "outputs": [
    {
     "output_type": "execute_result",
     "data": {
      "text/plain": [
       "True"
      ]
     },
     "metadata": {},
     "execution_count": 7
    }
   ],
   "source": [
    "all_review[0].endswith('.')"
   ]
  },
  {
   "cell_type": "code",
   "execution_count": 8,
   "metadata": {},
   "outputs": [
    {
     "output_type": "stream",
     "name": "stdout",
     "text": [
      "There are 819 sentences end with .\n"
     ]
    }
   ],
   "source": [
    "n=0\n",
    "\n",
    "for i in all_review:\n",
    "    if i.endswith('.'):\n",
    "        n +=1\n",
    "\n",
    "\n",
    "print('There are {} sentences end with .'.format(n))"
   ]
  },
  {
   "cell_type": "markdown",
   "metadata": {},
   "source": [
    "### 將所有. 換成 ,"
   ]
  },
  {
   "cell_type": "code",
   "execution_count": 16,
   "metadata": {},
   "outputs": [
    {
     "output_type": "execute_result",
     "data": {
      "text/plain": [
       "array(['Wow,,, Loved this place,', 'Crust is not good,'], dtype=object)"
      ]
     },
     "metadata": {},
     "execution_count": 16
    }
   ],
   "source": [
    "for index in range(len(all_review)):\n",
    "    all_review[index]=all_review[index].replace('.',',')\n",
    "all_review[:2]"
   ]
  },
  {
   "cell_type": "markdown",
   "metadata": {},
   "source": [
    "### 將所有sentence 中的 the 置換成 The"
   ]
  },
  {
   "cell_type": "code",
   "execution_count": 17,
   "metadata": {},
   "outputs": [
    {
     "output_type": "execute_result",
     "data": {
      "text/plain": [
       "array(['Wow,,, Loved this place,', 'Crust is not good,',\n",
       "       'Not tasty and The texture was just nasty,',\n",
       "       'Stopped by during The late May bank holiday off Rick Steve recommendation and loved it,',\n",
       "       'The selection on The menu was great and so were The prices,'],\n",
       "      dtype=object)"
      ]
     },
     "metadata": {},
     "execution_count": 17
    }
   ],
   "source": [
    "for index in range(len(all_review)):\n",
    "    all_review[index]=all_review[index].replace('the','The')\n",
    "all_review[:5]"
   ]
  },
  {
   "cell_type": "markdown",
   "metadata": {},
   "source": [
    "### 將偶數句子全部轉換為大寫，基數句子全部轉換為小寫"
   ]
  },
  {
   "cell_type": "code",
   "execution_count": 18,
   "metadata": {},
   "outputs": [
    {
     "output_type": "execute_result",
     "data": {
      "text/plain": [
       "array(['WOW,,, LOVED THIS PLACE,', 'crust is not good,',\n",
       "       'NOT TASTY AND THE TEXTURE WAS JUST NASTY,',\n",
       "       'stopped by during the late may bank holiday off rick steve recommendation and loved it,',\n",
       "       'THE SELECTION ON THE MENU WAS GREAT AND SO WERE THE PRICES,'],\n",
       "      dtype=object)"
      ]
     },
     "metadata": {},
     "execution_count": 18
    }
   ],
   "source": [
    "for index in range(len(all_review)):\n",
    "    if index%2==0:\n",
    "        all_review[index]=all_review[index].upper()\n",
    "    else:\n",
    "        all_review[index]=all_review[index].lower()\n",
    "\n",
    "all_review[:5]"
   ]
  },
  {
   "cell_type": "markdown",
   "metadata": {},
   "source": [
    "### 將所有句子合併在一起，並以' / ' 為間隔"
   ]
  },
  {
   "cell_type": "code",
   "execution_count": 22,
   "metadata": {},
   "outputs": [
    {
     "output_type": "execute_result",
     "data": {
      "text/plain": [
       "'WOW,,, LOVED THIS PLACE,//crust is not good,//NOT TASTY AND THE TEXTURE WAS JUST NASTY,//stopped by during the late may bank holiday off rick steve recommendation and loved it,//THE SELECTION ON THE M'"
      ]
     },
     "metadata": {},
     "execution_count": 22
    }
   ],
   "source": [
    "'//'.join(all_review)[:200]"
   ]
  },
  {
   "cell_type": "code",
   "execution_count": null,
   "metadata": {},
   "outputs": [],
   "source": []
  }
 ],
 "metadata": {
  "kernelspec": {
   "name": "python3",
   "display_name": "Python 3.7.9 64-bit",
   "metadata": {
    "interpreter": {
     "hash": "aee8b7b246df8f9039afb4144a1f6fd8d2ca17a180786b69acc140d282b71a49"
    }
   }
  },
  "language_info": {
   "codemirror_mode": {
    "name": "ipython",
    "version": 3
   },
   "file_extension": ".py",
   "mimetype": "text/x-python",
   "name": "python",
   "nbconvert_exporter": "python",
   "pygments_lexer": "ipython3",
   "version": "3.7.9-final"
  }
 },
 "nbformat": 4,
 "nbformat_minor": 2
}